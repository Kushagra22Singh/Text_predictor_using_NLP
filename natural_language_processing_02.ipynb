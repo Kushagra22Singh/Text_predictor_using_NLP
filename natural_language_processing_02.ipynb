{
 "cells": [
  {
   "cell_type": "markdown",
   "id": "df6cfab3",
   "metadata": {},
   "source": [
    "# RNN Play Generator\n",
    "Now time for one of the coolest examples we've seen so far. We are going to use a RNN to generate a play. We will simply show the RNN an example of something we want it to recreate and it will learn how to write a version of it on its own. We'll do this using a character predictive model that will take as input a variable length sequence and predict the next character. We can use the model many times in a row with the output from the last predicition as the input for the next call to generate a sequence.\n",
    "\n",
    "This guide is based on the following: https://www.tensorflow.org/tutorials/text/text_generation"
   ]
  },
  {
   "cell_type": "code",
   "execution_count": 4,
   "id": "f8b5feeb",
   "metadata": {},
   "outputs": [],
   "source": [
    "# %tensorflow_version 2.x  # this line is not required unless you are in a notebook\n",
    "from keras.preprocessing import sequence\n",
    "import keras\n",
    "import tensorflow as tf\n",
    "import os\n",
    "import numpy as np"
   ]
  },
  {
   "cell_type": "markdown",
   "id": "6648aa4d",
   "metadata": {},
   "source": [
    "# Dataset\n",
    "For this example, we only need one peice of training data. In fact, we can write our own poem or play and pass that to the network for training if we'd like. However, to make things easy we'll use an extract from a shakesphere play."
   ]
  },
  {
   "cell_type": "code",
   "execution_count": 5,
   "id": "dbd720a4",
   "metadata": {},
   "outputs": [],
   "source": [
    "path_to_file = tf.keras.utils.get_file('shakespeare.txt', 'https://storage.googleapis.com/download.tensorflow.org/data/shakespeare.txt')"
   ]
  },
  {
   "cell_type": "markdown",
   "id": "b1b8f7d8",
   "metadata": {},
   "source": [
    "# Loading Your Own Data\n",
    "To load your own data, you'll need to upload a file from the dialog below. Then you'll need to follow the steps from above but load in this new file instead."
   ]
  },
  {
   "cell_type": "code",
   "execution_count": 6,
   "id": "ac40472d",
   "metadata": {
    "scrolled": true
   },
   "outputs": [],
   "source": [
    "#from google.colab import files\n",
    "#path_to_file = list(files.upload().keys())[0]\n",
    "\n",
    "##### this is optional"
   ]
  },
  {
   "cell_type": "markdown",
   "id": "9dcbbef6",
   "metadata": {},
   "source": [
    "# Read Contents of File\n",
    "Let's look at the contents of the file."
   ]
  },
  {
   "cell_type": "code",
   "execution_count": 7,
   "id": "473c7e64",
   "metadata": {},
   "outputs": [
    {
     "name": "stdout",
     "output_type": "stream",
     "text": [
      "Length of text: 1115394 characters\n"
     ]
    }
   ],
   "source": [
    "# Read, then decode for py2 compat.\n",
    "text = open(path_to_file, 'rb').read().decode(encoding='utf-8')\n",
    "# length of text is the number of characters in it\n",
    "print ('Length of text: {} characters'.format(len(text)))"
   ]
  },
  {
   "cell_type": "code",
   "execution_count": 8,
   "id": "6e6ec0c0",
   "metadata": {},
   "outputs": [
    {
     "name": "stdout",
     "output_type": "stream",
     "text": [
      "First Citizen:\n",
      "Before we proceed any further, hear me speak.\n",
      "\n",
      "All:\n",
      "Speak, speak.\n",
      "\n",
      "First Citizen:\n",
      "You are all resolved rather to die than to famish?\n",
      "\n",
      "All:\n",
      "Resolved. resolved.\n",
      "\n",
      "First Citizen:\n",
      "First, you know Caius Marcius is chief enemy to the people.\n",
      "\n"
     ]
    }
   ],
   "source": [
    "# Take a look at the first 250 characters in text\n",
    "print(text[:250])"
   ]
  },
  {
   "cell_type": "markdown",
   "id": "68e96b3f",
   "metadata": {},
   "source": [
    "# Encoding\n",
    "Since this text isn't encoded yet well need to do that ourselves. We are going to encode each unique character as a different integer."
   ]
  },
  {
   "cell_type": "code",
   "execution_count": 9,
   "id": "b6f95043",
   "metadata": {},
   "outputs": [],
   "source": [
    "vocab = sorted(set(text))\n",
    "# Creating a mapping from unique characters to indices\n",
    "char2idx = {u:i for i, u in enumerate(vocab)}\n",
    "idx2char = np.array(vocab)\n",
    "\n",
    "def text_to_int(text):\n",
    "  return np.array([char2idx[c] for c in text])\n",
    "\n",
    "text_as_int = text_to_int(text)"
   ]
  },
  {
   "cell_type": "code",
   "execution_count": 10,
   "id": "3c178e02",
   "metadata": {},
   "outputs": [
    {
     "name": "stdout",
     "output_type": "stream",
     "text": [
      "Text: First Citizen\n",
      "Encoded: [18 47 56 57 58  1 15 47 58 47 64 43 52]\n"
     ]
    }
   ],
   "source": [
    "# lets look at how part of our text is encoded\n",
    "print(\"Text:\", text[:13])\n",
    "print(\"Encoded:\", text_to_int(text[:13]))"
   ]
  },
  {
   "cell_type": "markdown",
   "id": "519ca592",
   "metadata": {},
   "source": [
    "And here we will make a function that can convert our numeric values to text."
   ]
  },
  {
   "cell_type": "code",
   "execution_count": 11,
   "id": "9f1e89d4",
   "metadata": {},
   "outputs": [
    {
     "name": "stdout",
     "output_type": "stream",
     "text": [
      "First Citizen\n"
     ]
    }
   ],
   "source": [
    "def int_to_text(ints):\n",
    "  try:\n",
    "    ints = ints.numpy()\n",
    "  except:\n",
    "    pass\n",
    "  return ''.join(idx2char[ints])\n",
    "\n",
    "print(int_to_text(text_as_int[:13]))"
   ]
  },
  {
   "cell_type": "markdown",
   "id": "3559b21f",
   "metadata": {},
   "source": [
    "# Creating Training Examples\n",
    "Remember our task is to feed the model a sequence and have it return to us the next character. This means we need to split our text data from above into many shorter sequences that we can pass to the model as training examples.\n",
    "\n",
    "The training examples we will prepapre will use a seq_length sequence as input and a seq_length sequence as the output where that sequence is the original sequence shifted one letter to the right. For example:\n",
    "\n",
    "input: Hell | output: ello\n",
    "\n",
    "Our first step will be to create a stream of characters from our text data."
   ]
  },
  {
   "cell_type": "code",
   "execution_count": 12,
   "id": "32cdd20b",
   "metadata": {},
   "outputs": [],
   "source": [
    "seq_length = 100  # length of sequence for a training example\n",
    "examples_per_epoch = len(text)//(seq_length+1)\n",
    "\n",
    "# Create training examples / targets\n",
    "char_dataset = tf.data.Dataset.from_tensor_slices(text_as_int)"
   ]
  },
  {
   "cell_type": "markdown",
   "id": "8427bb9d",
   "metadata": {},
   "source": [
    "Next we can use the batch method to turn this stream of characters into batches of desired length."
   ]
  },
  {
   "cell_type": "code",
   "execution_count": 13,
   "id": "6804795d",
   "metadata": {},
   "outputs": [],
   "source": [
    "sequences = char_dataset.batch(seq_length+1, drop_remainder=True)"
   ]
  },
  {
   "cell_type": "markdown",
   "id": "b2516e9b",
   "metadata": {},
   "source": [
    "Now we need to use these sequences of length 101 and split them into input and output."
   ]
  },
  {
   "cell_type": "code",
   "execution_count": 14,
   "id": "22d09678",
   "metadata": {},
   "outputs": [],
   "source": [
    "def split_input_target(chunk):  # for the example: hello\n",
    "    input_text = chunk[:-1]  # hell\n",
    "    target_text = chunk[1:]  # ello\n",
    "    return input_text, target_text  # hell, ello\n",
    "\n",
    "dataset = sequences.map(split_input_target)  # we use map to apply the above function to every entry"
   ]
  },
  {
   "cell_type": "code",
   "execution_count": 15,
   "id": "2d00a756",
   "metadata": {},
   "outputs": [
    {
     "name": "stdout",
     "output_type": "stream",
     "text": [
      "\n",
      "\n",
      "EXAMPLE\n",
      "\n",
      "INPUT\n",
      "First Citizen:\n",
      "Before we proceed any further, hear me speak.\n",
      "\n",
      "All:\n",
      "Speak, speak.\n",
      "\n",
      "First Citizen:\n",
      "You\n",
      "\n",
      "OUTPUT\n",
      "irst Citizen:\n",
      "Before we proceed any further, hear me speak.\n",
      "\n",
      "All:\n",
      "Speak, speak.\n",
      "\n",
      "First Citizen:\n",
      "You \n",
      "\n",
      "\n",
      "EXAMPLE\n",
      "\n",
      "INPUT\n",
      "are all resolved rather to die than to famish?\n",
      "\n",
      "All:\n",
      "Resolved. resolved.\n",
      "\n",
      "First Citizen:\n",
      "First, you \n",
      "\n",
      "OUTPUT\n",
      "re all resolved rather to die than to famish?\n",
      "\n",
      "All:\n",
      "Resolved. resolved.\n",
      "\n",
      "First Citizen:\n",
      "First, you k\n"
     ]
    }
   ],
   "source": [
    "for x, y in dataset.take(2):\n",
    "  print(\"\\n\\nEXAMPLE\\n\")\n",
    "  print(\"INPUT\")\n",
    "  print(int_to_text(x))\n",
    "  print(\"\\nOUTPUT\")\n",
    "  print(int_to_text(y))"
   ]
  },
  {
   "cell_type": "markdown",
   "id": "5a596e95",
   "metadata": {},
   "source": [
    "Finally we need to make training batches."
   ]
  },
  {
   "cell_type": "code",
   "execution_count": 16,
   "id": "41dc0b41",
   "metadata": {},
   "outputs": [],
   "source": [
    "BATCH_SIZE = 64\n",
    "VOCAB_SIZE = len(vocab)  # vocab is number of unique characters\n",
    "EMBEDDING_DIM = 256\n",
    "RNN_UNITS = 1024\n",
    "\n",
    "# Buffer size to shuffle the dataset\n",
    "# (TF data is designed to work with possibly infinite sequences,\n",
    "# so it doesn't attempt to shuffle the entire sequence in memory. Instead,\n",
    "# it maintains a buffer in which it shuffles elements).\n",
    "BUFFER_SIZE = 10000\n",
    "\n",
    "data = dataset.shuffle(BUFFER_SIZE).batch(BATCH_SIZE, drop_remainder=True)"
   ]
  },
  {
   "cell_type": "markdown",
   "id": "8fc252ff",
   "metadata": {},
   "source": [
    "# Building the Model\n",
    "Now it is time to build the model. We will use an embedding layer a LSTM and one dense layer that contains a node for each unique character in our training data. The dense layer will give us a probability distribution over all nodes."
   ]
  },
  {
   "cell_type": "code",
   "execution_count": 17,
   "id": "e9a2cf06",
   "metadata": {},
   "outputs": [
    {
     "name": "stdout",
     "output_type": "stream",
     "text": [
      "Model: \"sequential\"\n",
      "_________________________________________________________________\n",
      " Layer (type)                Output Shape              Param #   \n",
      "=================================================================\n",
      " embedding (Embedding)       (64, None, 256)           16640     \n",
      "                                                                 \n",
      " lstm (LSTM)                 (64, None, 1024)          5246976   \n",
      "                                                                 \n",
      " dense (Dense)               (64, None, 65)            66625     \n",
      "                                                                 \n",
      "=================================================================\n",
      "Total params: 5330241 (20.33 MB)\n",
      "Trainable params: 5330241 (20.33 MB)\n",
      "Non-trainable params: 0 (0.00 Byte)\n",
      "_________________________________________________________________\n"
     ]
    }
   ],
   "source": [
    "def build_model(vocab_size, embedding_dim, rnn_units, batch_size):\n",
    "  model = tf.keras.Sequential([\n",
    "    tf.keras.layers.Embedding(vocab_size, embedding_dim,\n",
    "                              batch_input_shape=[batch_size, None]),\n",
    "    tf.keras.layers.LSTM(rnn_units,\n",
    "                        return_sequences=True,\n",
    "                        stateful=True,\n",
    "                        recurrent_initializer='glorot_uniform'),\n",
    "    tf.keras.layers.Dense(vocab_size)\n",
    "  ])\n",
    "  return model\n",
    "\n",
    "model = build_model(VOCAB_SIZE,EMBEDDING_DIM, RNN_UNITS, BATCH_SIZE)\n",
    "model.summary()"
   ]
  },
  {
   "cell_type": "markdown",
   "id": "30293c9e",
   "metadata": {},
   "source": [
    "# Creating a Loss Function\n",
    "Now we are going to create our own loss function for this problem. This is because our model will output a (64, sequence_length, 65) shaped tensor that represents the probability distribution of each character at each timestep for every sequence in the batch.\n",
    "\n",
    "However, before we do that let's have a look at a sample input and the output from our untrained model. This is so we can understand what the model is giving us."
   ]
  },
  {
   "cell_type": "code",
   "execution_count": 18,
   "id": "634b2e88",
   "metadata": {},
   "outputs": [
    {
     "name": "stdout",
     "output_type": "stream",
     "text": [
      "(64, 100, 65) # (batch_size, sequence_length, vocab_size)\n"
     ]
    }
   ],
   "source": [
    "for input_example_batch, target_example_batch in data.take(1):\n",
    "  example_batch_predictions = model(input_example_batch)  # ask our model for a prediction on our first batch of training data (64 entries)\n",
    "  print(example_batch_predictions.shape, \"# (batch_size, sequence_length, vocab_size)\")  # print out the output shape"
   ]
  },
  {
   "cell_type": "code",
   "execution_count": 19,
   "id": "6e8ca98d",
   "metadata": {
    "scrolled": true
   },
   "outputs": [
    {
     "name": "stdout",
     "output_type": "stream",
     "text": [
      "64\n",
      "tf.Tensor(\n",
      "[[[ 3.6279061e-03  7.9170633e-03  2.1843887e-03 ... -2.0467909e-03\n",
      "   -6.1178615e-04 -1.3653383e-03]\n",
      "  [ 8.3141746e-03  6.0805185e-03 -1.0354999e-03 ... -1.4318120e-03\n",
      "   -9.0850273e-04 -1.6672206e-03]\n",
      "  [ 6.5625533e-03  5.7607945e-03 -1.2522059e-03 ... -3.1374558e-03\n",
      "   -1.1063938e-03  2.9480811e-03]\n",
      "  ...\n",
      "  [-7.0370175e-03 -8.7125683e-03 -5.5741486e-03 ... -1.6262000e-03\n",
      "   -4.8593390e-03  9.3167555e-03]\n",
      "  [-7.9977242e-03 -6.1802403e-03 -8.7190187e-03 ... -1.7826462e-03\n",
      "   -1.7546036e-03  6.5474226e-03]\n",
      "  [-1.0851318e-02 -2.8635724e-03 -1.7513491e-03 ...  4.1644915e-04\n",
      "    5.2153086e-03 -2.7861586e-04]]\n",
      "\n",
      " [[ 2.2232503e-04  1.5377239e-03 -4.9204228e-04 ... -1.6522498e-03\n",
      "   -1.0769322e-03  4.5839208e-03]\n",
      "  [-1.9995228e-03 -3.9446806e-03  8.2597625e-04 ...  1.6000052e-04\n",
      "    2.1111662e-04 -4.7859410e-03]\n",
      "  [-3.1928364e-03 -1.0758636e-03  2.2877543e-03 ...  3.2240404e-03\n",
      "    3.2055657e-03 -1.7850912e-03]\n",
      "  ...\n",
      "  [-2.3946632e-03 -5.1015527e-03  3.4801345e-03 ...  2.6402376e-03\n",
      "    3.7300775e-03 -2.3277318e-03]\n",
      "  [ 4.6418067e-03  3.3889080e-03  5.2821143e-03 ... -2.1783737e-03\n",
      "    3.6214932e-03  1.5003344e-03]\n",
      "  [ 1.8966865e-03  5.3110062e-03  6.6847946e-03 ...  1.6373576e-03\n",
      "    5.7054721e-03  2.2683362e-03]]\n",
      "\n",
      " [[-5.1008323e-03 -5.0185686e-03  2.1668498e-03 ... -2.5408955e-03\n",
      "    1.4124626e-03  4.2003172e-04]\n",
      "  [-5.7936222e-03 -8.2509322e-03  2.5277447e-03 ...  4.0815445e-05\n",
      "    2.3842382e-03 -7.3401015e-03]\n",
      "  [-3.9673313e-03 -4.6703815e-03  6.5570674e-04 ... -1.6550540e-03\n",
      "    7.2833634e-04 -4.4303131e-04]\n",
      "  ...\n",
      "  [-6.5513235e-04 -9.8379944e-03 -7.7899164e-03 ... -2.9195573e-03\n",
      "    5.8894395e-04  3.7940517e-03]\n",
      "  [ 7.2671333e-05 -5.7050651e-03 -7.2428593e-03 ... -4.1294536e-03\n",
      "   -2.1205493e-03  8.8082757e-03]\n",
      "  [-2.1181144e-03 -9.4982795e-03 -4.9318229e-03 ... -1.9434443e-03\n",
      "   -1.7982149e-03 -6.4226502e-04]]\n",
      "\n",
      " ...\n",
      "\n",
      " [[ 7.7922083e-04  1.8354392e-03 -5.5698579e-04 ...  2.6804145e-04\n",
      "   -9.4255572e-04 -1.1600710e-03]\n",
      "  [ 6.0106590e-03  1.8822770e-03 -3.7019439e-03 ...  2.0239322e-04\n",
      "   -2.8904313e-03 -9.5564849e-04]\n",
      "  [-2.4847237e-03 -4.3778326e-03 -6.4184871e-03 ...  3.3090427e-03\n",
      "   -6.5905368e-03  3.9178925e-04]\n",
      "  ...\n",
      "  [-7.1900305e-03 -1.6036676e-03 -1.6074537e-03 ...  2.8919294e-03\n",
      "    1.0821403e-02  2.5790520e-03]\n",
      "  [-8.5603567e-03  5.0464962e-03 -3.7346284e-03 ... -2.0534266e-05\n",
      "    7.2945673e-03 -5.7327095e-04]\n",
      "  [-8.0227926e-03  5.6952573e-03 -1.7472671e-04 ... -2.7569337e-04\n",
      "    6.6862185e-03  3.7187946e-03]]\n",
      "\n",
      " [[-1.8305024e-03  2.4959536e-03  2.3542340e-03 ...  3.4630308e-03\n",
      "    3.3028622e-03  1.5840151e-03]\n",
      "  [-2.9035292e-03 -2.7823462e-03  3.1193937e-03 ...  4.6922546e-03\n",
      "    3.6502678e-03 -7.0556775e-03]\n",
      "  [-1.4675998e-03 -6.4671761e-04  1.1540884e-03 ...  1.9931048e-03\n",
      "    1.5240863e-03 -5.7478854e-04]\n",
      "  ...\n",
      "  [ 2.9612216e-03 -1.3841540e-03 -4.1805962e-03 ...  1.6751060e-03\n",
      "   -1.3763832e-03 -2.2494232e-03]\n",
      "  [ 2.5735176e-03  2.3207648e-03 -5.6012697e-03 ... -1.2284541e-04\n",
      "   -3.0616792e-03  3.0572657e-03]\n",
      "  [-1.4519697e-03  2.3329658e-03 -8.9537846e-03 ... -4.6655606e-04\n",
      "   -8.4317569e-04  2.6312512e-03]]\n",
      "\n",
      " [[-4.3196073e-03  9.4836490e-04  6.3840803e-03 ...  5.7972185e-03\n",
      "   -1.5306068e-03  6.0141855e-04]\n",
      "  [-2.5380375e-03  2.8422908e-03  3.4862657e-03 ...  2.9791149e-03\n",
      "   -1.6064697e-03 -1.2296968e-03]\n",
      "  [ 7.1902331e-03  7.1824579e-03  6.1543629e-04 ...  4.0168110e-03\n",
      "   -1.3528161e-03 -1.2636611e-03]\n",
      "  ...\n",
      "  [ 2.7458696e-04  5.2649705e-03 -1.4436855e-03 ...  4.0191109e-03\n",
      "   -5.2864784e-03  4.7251368e-03]\n",
      "  [ 3.0069484e-03  1.0061208e-03 -6.9614579e-03 ... -2.9915788e-03\n",
      "   -2.6371456e-03  1.4432307e-03]\n",
      "  [ 2.6873515e-03  2.5713309e-03 -6.8065450e-03 ... -5.7836589e-03\n",
      "   -5.3744712e-03  6.2209582e-03]]], shape=(64, 100, 65), dtype=float32)\n"
     ]
    }
   ],
   "source": [
    "# we can see that the predicition is an array of 64 arrays, one for each entry in the batch\n",
    "print(len(example_batch_predictions))\n",
    "print(example_batch_predictions)"
   ]
  },
  {
   "cell_type": "code",
   "execution_count": 20,
   "id": "a374ceaa",
   "metadata": {
    "scrolled": false
   },
   "outputs": [
    {
     "name": "stdout",
     "output_type": "stream",
     "text": [
      "100\n",
      "tf.Tensor(\n",
      "[[ 0.00362791  0.00791706  0.00218439 ... -0.00204679 -0.00061179\n",
      "  -0.00136534]\n",
      " [ 0.00831417  0.00608052 -0.0010355  ... -0.00143181 -0.0009085\n",
      "  -0.00166722]\n",
      " [ 0.00656255  0.00576079 -0.00125221 ... -0.00313746 -0.00110639\n",
      "   0.00294808]\n",
      " ...\n",
      " [-0.00703702 -0.00871257 -0.00557415 ... -0.0016262  -0.00485934\n",
      "   0.00931676]\n",
      " [-0.00799772 -0.00618024 -0.00871902 ... -0.00178265 -0.0017546\n",
      "   0.00654742]\n",
      " [-0.01085132 -0.00286357 -0.00175135 ...  0.00041645  0.00521531\n",
      "  -0.00027862]], shape=(100, 65), dtype=float32)\n"
     ]
    }
   ],
   "source": [
    "# lets examine one prediction\n",
    "pred = example_batch_predictions[0]\n",
    "print(len(pred))\n",
    "print(pred)\n",
    "# notice this is a 2d array of length 100, where each interior array is the prediction for the next character at each time step"
   ]
  },
  {
   "cell_type": "code",
   "execution_count": 21,
   "id": "62ee61fc",
   "metadata": {},
   "outputs": [
    {
     "name": "stdout",
     "output_type": "stream",
     "text": [
      "65\n",
      "tf.Tensor(\n",
      "[ 3.6279061e-03  7.9170633e-03  2.1843887e-03  3.6516772e-03\n",
      " -3.9177178e-03  1.6706670e-04 -8.9728902e-04  5.4676121e-04\n",
      "  3.0815017e-03  3.7797284e-03  5.6791245e-03  2.8217882e-03\n",
      " -5.2994490e-03  2.4391583e-03  2.7948129e-03  7.3519852e-03\n",
      "  1.0171337e-03  1.2048427e-04  1.5602252e-03  3.9166338e-03\n",
      "  1.1442471e-04 -1.5724477e-04 -3.7120387e-03  3.6333082e-03\n",
      "  4.1363621e-03  8.4645776e-03 -1.7826976e-03  5.1188339e-03\n",
      " -9.0255926e-04  5.1824022e-03  1.3775757e-03 -5.0491584e-03\n",
      "  3.0003404e-03 -8.2884904e-04 -4.5816028e-03 -7.2746020e-04\n",
      " -1.6156479e-03 -2.1841086e-03  2.5743889e-03 -2.8623063e-03\n",
      " -4.4493657e-03  1.7236670e-03 -2.1259682e-03  3.4497557e-03\n",
      " -2.1551996e-03  2.8082547e-03  1.0067609e-03  2.6969702e-03\n",
      "  6.1042001e-03 -4.0530704e-04 -5.0141406e-03  1.5237698e-03\n",
      " -1.3077245e-03 -1.3604630e-03  1.6706450e-03  2.4575028e-03\n",
      " -1.9572864e-03 -4.7711088e-05  3.7136730e-03 -5.2340038e-04\n",
      "  2.2765463e-03  2.4315037e-03 -2.0467909e-03 -6.1178615e-04\n",
      " -1.3653383e-03], shape=(65,), dtype=float32)\n"
     ]
    }
   ],
   "source": [
    "# and finally well look at a prediction at the first timestep\n",
    "time_pred = pred[0]\n",
    "print(len(time_pred))\n",
    "print(time_pred)\n",
    "# and of course its 65 values representing the probabillity of each character occuring next"
   ]
  },
  {
   "cell_type": "code",
   "execution_count": 22,
   "id": "1e4348d9",
   "metadata": {},
   "outputs": [
    {
     "data": {
      "text/plain": [
       "\"cFl.wX-wY$NoI. !qBnDji!KlIlH?nW?lQx.P!\\nMlA'?p3KqbAgVz,dQMMzBz'YIRNX3bq\\njBcTXV,OKjQ&&\\nh;pxsfGM.$!RnXL\""
      ]
     },
     "execution_count": 22,
     "metadata": {},
     "output_type": "execute_result"
    }
   ],
   "source": [
    "# If we want to determine the predicted character we need to sample the output distribution (pick a value based on probabillity)\n",
    "sampled_indices = tf.random.categorical(pred, num_samples=1)\n",
    "\n",
    "# now we can reshape that array and convert all the integers to numbers to see the actual characters\n",
    "sampled_indices = np.reshape(sampled_indices, (1, -1))[0]\n",
    "predicted_chars = int_to_text(sampled_indices)\n",
    "\n",
    "predicted_chars  # and this is what the model predicted for training sequence 1"
   ]
  },
  {
   "cell_type": "markdown",
   "id": "1d2e71f6",
   "metadata": {},
   "source": [
    "So now we need to create a loss function that can compare that output to the expected output and give us some numeric value representing how close the two were."
   ]
  },
  {
   "cell_type": "code",
   "execution_count": 23,
   "id": "3a754455",
   "metadata": {},
   "outputs": [],
   "source": [
    "def loss(labels, logits):\n",
    "  return tf.keras.losses.sparse_categorical_crossentropy(labels, logits, from_logits=True)"
   ]
  },
  {
   "cell_type": "markdown",
   "id": "16f6f396",
   "metadata": {},
   "source": [
    "# Compiling the Model\n",
    "At this point we can think of our problem as a classification problem where the model predicts the probabillity of each unique letter coming next."
   ]
  },
  {
   "cell_type": "code",
   "execution_count": 24,
   "id": "d3b20ff3",
   "metadata": {},
   "outputs": [],
   "source": [
    "model.compile(optimizer='adam', loss=loss)"
   ]
  },
  {
   "cell_type": "markdown",
   "id": "0bb69b03",
   "metadata": {},
   "source": [
    "# Creating Checkpoints\n",
    "Now we are going to setup and configure our model to save checkpoinst as it trains. This will allow us to load our model from a checkpoint and continue training it."
   ]
  },
  {
   "cell_type": "code",
   "execution_count": 30,
   "id": "011ef705",
   "metadata": {},
   "outputs": [],
   "source": [
    "# Directory where the checkpoints will be saved\n",
    "checkpoint_dir = './training_checkpoints'\n",
    "# Name of the checkpoint files\n",
    "checkpoint_prefix = os.path.join(checkpoint_dir, \"ckpt_{epoch}\")\n",
    "\n",
    "checkpoint_callback=tf.keras.callbacks.ModelCheckpoint(\n",
    "    filepath=checkpoint_prefix,\n",
    "    save_weights_only=True)"
   ]
  },
  {
   "cell_type": "markdown",
   "id": "82c4fffa",
   "metadata": {},
   "source": [
    "# Training\n",
    "Finally, we will start training the model.\n",
    "\n",
    "If this is taking a while go to Runtime > Change Runtime Type and choose \"GPU\" under hardware accelerator."
   ]
  },
  {
   "cell_type": "code",
   "execution_count": 26,
   "id": "af0338d2",
   "metadata": {},
   "outputs": [
    {
     "name": "stdout",
     "output_type": "stream",
     "text": [
      "172/172 [==============================] - 879s 5s/step - loss: 2.5476\n"
     ]
    }
   ],
   "source": [
    "history = model.fit(data, epochs=1, callbacks=[checkpoint_callback])"
   ]
  },
  {
   "cell_type": "markdown",
   "id": "fc91c236",
   "metadata": {},
   "source": [
    "# Loading the Model\n",
    "We'll rebuild the model from a checkpoint using a batch_size of 1 so that we can feed one peice of text to the model and have it make a prediction."
   ]
  },
  {
   "cell_type": "code",
   "execution_count": 27,
   "id": "88c9c052",
   "metadata": {},
   "outputs": [],
   "source": [
    "model = build_model(VOCAB_SIZE, EMBEDDING_DIM, RNN_UNITS, batch_size=1)"
   ]
  },
  {
   "cell_type": "markdown",
   "id": "42d1f1fe",
   "metadata": {},
   "source": [
    "Once the model is finished training, we can find the lastest checkpoint that stores the models weights using the following line."
   ]
  },
  {
   "cell_type": "code",
   "execution_count": 28,
   "id": "d0288494",
   "metadata": {},
   "outputs": [],
   "source": [
    "model.load_weights(tf.train.latest_checkpoint(checkpoint_dir))\n",
    "model.build(tf.TensorShape([1, None]))"
   ]
  },
  {
   "cell_type": "markdown",
   "id": "472318b1",
   "metadata": {},
   "source": [
    "# #Generating Text\n",
    "Now we can use the lovely function provided by tensorflow to generate some text using any starting string we'd like."
   ]
  },
  {
   "cell_type": "code",
   "execution_count": 33,
   "id": "5616f515",
   "metadata": {},
   "outputs": [],
   "source": [
    "def generate_text(model, start_string):\n",
    "  # Evaluation step (generating text using the learned model)\n",
    "\n",
    "  # Number of characters to generate\n",
    "  num_generate = 800\n",
    "\n",
    "  # Converting our start string to numbers (vectorizing)\n",
    "  input_eval = [char2idx[s] for s in start_string]\n",
    "  input_eval = tf.expand_dims(input_eval, 0)\n",
    "\n",
    "  # Empty string to store our results\n",
    "  text_generated = []\n",
    "\n",
    "  # Low temperatures results in more predictable text.\n",
    "  # Higher temperatures results in more surprising text.\n",
    "  # Experiment to find the best setting.\n",
    "  temperature = 1.0\n",
    "\n",
    "  # Here batch size == 1\n",
    "  model.reset_states()\n",
    "  for i in range(num_generate):\n",
    "      predictions = model(input_eval)\n",
    "      # remove the batch dimension\n",
    "    \n",
    "      predictions = tf.squeeze(predictions, 0)\n",
    "\n",
    "      # using a categorical distribution to predict the character returned by the model\n",
    "      predictions = predictions / temperature\n",
    "      predicted_id = tf.random.categorical(predictions, num_samples=1)[-1,0].numpy()\n",
    "\n",
    "      # We pass the predicted character as the next input to the model\n",
    "      # along with the previous hidden state\n",
    "      input_eval = tf.expand_dims([predicted_id], 0)\n",
    "\n",
    "      text_generated.append(idx2char[predicted_id])\n",
    "\n",
    "  return (start_string + ''.join(text_generated))"
   ]
  },
  {
   "cell_type": "code",
   "execution_count": 34,
   "id": "9031f511",
   "metadata": {},
   "outputs": [
    {
     "name": "stdout",
     "output_type": "stream",
     "text": [
      "Type a starting string: romeo\n",
      "romeop harcast:\n",
      "Tout trich ane loncf parid to the musthes hith that bupyhase pyoud ouracy beaste's,\n",
      "O ke nor of tles faatind baof unfy; ite bud,\n",
      "To prowe th my thoud of on it is fom thengu:\n",
      "Your thith:\n",
      "\n",
      "nledk ID Hercem:\n",
      "And count peat's it; my sher, ow the pisurby,\n",
      "Thit ave thomed thougst main oor me kenceet\n",
      "Norod a that ouncetmur, to bedveach a,\n",
      "Thy layt! whot shatcin; ank wire are. you culs my wore\n",
      "This carauntaim angey the ravegtoron, for!\n",
      "\n",
      "Fronte nours, thou send cen sillawiom\n",
      "And ceaftre kency Sinet cour to me, berist con Purty;\n",
      "But ind Seach the, I bravy to siec allore willy soule tor ie thiek sainser,\n",
      "That gouth anf waresan, gall buchind buthincomeer'e.\n",
      "\n",
      "ELTENES:\n",
      "Hom sinios wen, thin whe hapksour fror marest moor at thie with icans jourut you om scunment silt bust on Beil.\n",
      "\n",
      "QUEE veand\n",
      "Ha\n"
     ]
    }
   ],
   "source": [
    "inp = input(\"Type a starting string: \")\n",
    "print(generate_text(model, inp))"
   ]
  },
  {
   "cell_type": "code",
   "execution_count": 35,
   "id": "6d571769",
   "metadata": {},
   "outputs": [
    {
     "name": "stdout",
     "output_type": "stream",
     "text": [
      "holla\n"
     ]
    }
   ],
   "source": [
    "print(\"holla\")"
   ]
  },
  {
   "cell_type": "code",
   "execution_count": null,
   "id": "5e7423a9",
   "metadata": {},
   "outputs": [],
   "source": []
  }
 ],
 "metadata": {
  "kernelspec": {
   "display_name": "Python 3 (ipykernel)",
   "language": "python",
   "name": "python3"
  },
  "language_info": {
   "codemirror_mode": {
    "name": "ipython",
    "version": 3
   },
   "file_extension": ".py",
   "mimetype": "text/x-python",
   "name": "python",
   "nbconvert_exporter": "python",
   "pygments_lexer": "ipython3",
   "version": "3.10.11"
  }
 },
 "nbformat": 4,
 "nbformat_minor": 5
}
